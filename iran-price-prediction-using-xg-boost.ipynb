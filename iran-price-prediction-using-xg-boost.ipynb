{
 "cells": [
  {
   "cell_type": "code",
   "execution_count": 1,
   "id": "4a04ba1c",
   "metadata": {
    "_cell_guid": "b1076dfc-b9ad-4769-8c92-a6c4dae69d19",
    "_uuid": "8f2839f25d086af736a60e9eeb907d3b93b6e0e5",
    "execution": {
     "iopub.execute_input": "2021-09-06T13:18:58.508303Z",
     "iopub.status.busy": "2021-09-06T13:18:58.507234Z",
     "iopub.status.idle": "2021-09-06T13:18:58.524973Z",
     "shell.execute_reply": "2021-09-06T13:18:58.525442Z",
     "shell.execute_reply.started": "2021-09-06T13:18:28.988064Z"
    },
    "papermill": {
     "duration": 0.039295,
     "end_time": "2021-09-06T13:18:58.525767",
     "exception": false,
     "start_time": "2021-09-06T13:18:58.486472",
     "status": "completed"
    },
    "tags": []
   },
   "outputs": [
    {
     "name": "stdout",
     "output_type": "stream",
     "text": [
      "/kaggle/input/house-price-tehran-iran/housePrice.csv\n"
     ]
    }
   ],
   "source": [
    "# This Python 3 environment comes with many helpful analytics libraries installed\n",
    "# It is defined by the kaggle/python Docker image: https://github.com/kaggle/docker-python\n",
    "# For example, here's several helpful packages to load\n",
    "\n",
    "import numpy as np # linear algebra\n",
    "import pandas as pd # data processing, CSV file I/O (e.g. pd.read_csv)\n",
    "\n",
    "# Input data files are available in the read-only \"../input/\" directory\n",
    "# For example, running this (by clicking run or pressing Shift+Enter) will list all files under the input directory\n",
    "\n",
    "import os\n",
    "for dirname, _, filenames in os.walk('/kaggle/input'):\n",
    "    for filename in filenames:\n",
    "        print(os.path.join(dirname, filename))\n",
    "\n",
    "# You can write up to 20GB to the current directory (/kaggle/working/) that gets preserved as output when you create a version using \"Save & Run All\" \n",
    "# You can also write temporary files to /kaggle/temp/, but they won't be saved outside of the current session"
   ]
  },
  {
   "cell_type": "code",
   "execution_count": 2,
   "id": "a8dba5cf",
   "metadata": {
    "execution": {
     "iopub.execute_input": "2021-09-06T13:18:58.565622Z",
     "iopub.status.busy": "2021-09-06T13:18:58.564958Z",
     "iopub.status.idle": "2021-09-06T13:18:58.566839Z",
     "shell.execute_reply": "2021-09-06T13:18:58.567233Z",
     "shell.execute_reply.started": "2021-09-06T13:18:28.996417Z"
    },
    "papermill": {
     "duration": 0.023076,
     "end_time": "2021-09-06T13:18:58.567428",
     "exception": false,
     "start_time": "2021-09-06T13:18:58.544352",
     "status": "completed"
    },
    "tags": []
   },
   "outputs": [],
   "source": [
    "import pandas as pd\n",
    "import numpy as np"
   ]
  },
  {
   "cell_type": "code",
   "execution_count": 3,
   "id": "dda67192",
   "metadata": {
    "execution": {
     "iopub.execute_input": "2021-09-06T13:18:58.607100Z",
     "iopub.status.busy": "2021-09-06T13:18:58.606497Z",
     "iopub.status.idle": "2021-09-06T13:18:58.717659Z",
     "shell.execute_reply": "2021-09-06T13:18:58.717153Z",
     "shell.execute_reply.started": "2021-09-06T13:18:29.009271Z"
    },
    "papermill": {
     "duration": 0.132211,
     "end_time": "2021-09-06T13:18:58.717804",
     "exception": false,
     "start_time": "2021-09-06T13:18:58.585593",
     "status": "completed"
    },
    "tags": []
   },
   "outputs": [],
   "source": [
    "house = pd.read_csv(\"../input/house-price-tehran-iran/housePrice.csv\")"
   ]
  },
  {
   "cell_type": "code",
   "execution_count": 4,
   "id": "87306ed9",
   "metadata": {
    "execution": {
     "iopub.execute_input": "2021-09-06T13:18:58.764201Z",
     "iopub.status.busy": "2021-09-06T13:18:58.763602Z",
     "iopub.status.idle": "2021-09-06T13:18:58.784470Z",
     "shell.execute_reply": "2021-09-06T13:18:58.785003Z",
     "shell.execute_reply.started": "2021-09-06T13:18:29.031365Z"
    },
    "papermill": {
     "duration": 0.049779,
     "end_time": "2021-09-06T13:18:58.785172",
     "exception": false,
     "start_time": "2021-09-06T13:18:58.735393",
     "status": "completed"
    },
    "tags": []
   },
   "outputs": [
    {
     "data": {
      "text/html": [
       "<div>\n",
       "<style scoped>\n",
       "    .dataframe tbody tr th:only-of-type {\n",
       "        vertical-align: middle;\n",
       "    }\n",
       "\n",
       "    .dataframe tbody tr th {\n",
       "        vertical-align: top;\n",
       "    }\n",
       "\n",
       "    .dataframe thead th {\n",
       "        text-align: right;\n",
       "    }\n",
       "</style>\n",
       "<table border=\"1\" class=\"dataframe\">\n",
       "  <thead>\n",
       "    <tr style=\"text-align: right;\">\n",
       "      <th></th>\n",
       "      <th>Area</th>\n",
       "      <th>Room</th>\n",
       "      <th>Parking</th>\n",
       "      <th>Warehouse</th>\n",
       "      <th>Elevator</th>\n",
       "      <th>Address</th>\n",
       "      <th>Price</th>\n",
       "      <th>Price(USD)</th>\n",
       "    </tr>\n",
       "  </thead>\n",
       "  <tbody>\n",
       "    <tr>\n",
       "      <th>0</th>\n",
       "      <td>63</td>\n",
       "      <td>1</td>\n",
       "      <td>True</td>\n",
       "      <td>True</td>\n",
       "      <td>True</td>\n",
       "      <td>Shahran</td>\n",
       "      <td>1.850000e+09</td>\n",
       "      <td>61666.67</td>\n",
       "    </tr>\n",
       "    <tr>\n",
       "      <th>1</th>\n",
       "      <td>60</td>\n",
       "      <td>1</td>\n",
       "      <td>True</td>\n",
       "      <td>True</td>\n",
       "      <td>True</td>\n",
       "      <td>Shahran</td>\n",
       "      <td>1.850000e+09</td>\n",
       "      <td>61666.67</td>\n",
       "    </tr>\n",
       "    <tr>\n",
       "      <th>2</th>\n",
       "      <td>79</td>\n",
       "      <td>2</td>\n",
       "      <td>True</td>\n",
       "      <td>True</td>\n",
       "      <td>True</td>\n",
       "      <td>Pardis</td>\n",
       "      <td>5.500000e+08</td>\n",
       "      <td>18333.33</td>\n",
       "    </tr>\n",
       "    <tr>\n",
       "      <th>3</th>\n",
       "      <td>95</td>\n",
       "      <td>2</td>\n",
       "      <td>True</td>\n",
       "      <td>True</td>\n",
       "      <td>True</td>\n",
       "      <td>Shahrake Qods</td>\n",
       "      <td>9.025000e+08</td>\n",
       "      <td>30083.33</td>\n",
       "    </tr>\n",
       "    <tr>\n",
       "      <th>4</th>\n",
       "      <td>123</td>\n",
       "      <td>2</td>\n",
       "      <td>True</td>\n",
       "      <td>True</td>\n",
       "      <td>True</td>\n",
       "      <td>Shahrake Gharb</td>\n",
       "      <td>7.000000e+09</td>\n",
       "      <td>233333.33</td>\n",
       "    </tr>\n",
       "  </tbody>\n",
       "</table>\n",
       "</div>"
      ],
      "text/plain": [
       "  Area  Room  Parking  Warehouse  Elevator         Address         Price  \\\n",
       "0   63     1     True       True      True         Shahran  1.850000e+09   \n",
       "1   60     1     True       True      True         Shahran  1.850000e+09   \n",
       "2   79     2     True       True      True          Pardis  5.500000e+08   \n",
       "3   95     2     True       True      True   Shahrake Qods  9.025000e+08   \n",
       "4  123     2     True       True      True  Shahrake Gharb  7.000000e+09   \n",
       "\n",
       "   Price(USD)  \n",
       "0    61666.67  \n",
       "1    61666.67  \n",
       "2    18333.33  \n",
       "3    30083.33  \n",
       "4   233333.33  "
      ]
     },
     "execution_count": 4,
     "metadata": {},
     "output_type": "execute_result"
    }
   ],
   "source": [
    "house.head()"
   ]
  },
  {
   "cell_type": "code",
   "execution_count": 5,
   "id": "e8ba5f3d",
   "metadata": {
    "execution": {
     "iopub.execute_input": "2021-09-06T13:18:58.825318Z",
     "iopub.status.busy": "2021-09-06T13:18:58.824517Z",
     "iopub.status.idle": "2021-09-06T13:18:58.835843Z",
     "shell.execute_reply": "2021-09-06T13:18:58.835093Z",
     "shell.execute_reply.started": "2021-09-06T13:18:29.046173Z"
    },
    "papermill": {
     "duration": 0.031664,
     "end_time": "2021-09-06T13:18:58.836025",
     "exception": false,
     "start_time": "2021-09-06T13:18:58.804361",
     "status": "completed"
    },
    "tags": []
   },
   "outputs": [],
   "source": [
    "house.drop(\"Price\", inplace=True, axis = 1)"
   ]
  },
  {
   "cell_type": "code",
   "execution_count": 6,
   "id": "009e8cc4",
   "metadata": {
    "execution": {
     "iopub.execute_input": "2021-09-06T13:18:58.885038Z",
     "iopub.status.busy": "2021-09-06T13:18:58.884121Z",
     "iopub.status.idle": "2021-09-06T13:18:58.888782Z",
     "shell.execute_reply": "2021-09-06T13:18:58.888257Z",
     "shell.execute_reply.started": "2021-09-06T13:18:29.061575Z"
    },
    "papermill": {
     "duration": 0.034938,
     "end_time": "2021-09-06T13:18:58.888915",
     "exception": false,
     "start_time": "2021-09-06T13:18:58.853977",
     "status": "completed"
    },
    "tags": []
   },
   "outputs": [
    {
     "data": {
      "text/html": [
       "<div>\n",
       "<style scoped>\n",
       "    .dataframe tbody tr th:only-of-type {\n",
       "        vertical-align: middle;\n",
       "    }\n",
       "\n",
       "    .dataframe tbody tr th {\n",
       "        vertical-align: top;\n",
       "    }\n",
       "\n",
       "    .dataframe thead th {\n",
       "        text-align: right;\n",
       "    }\n",
       "</style>\n",
       "<table border=\"1\" class=\"dataframe\">\n",
       "  <thead>\n",
       "    <tr style=\"text-align: right;\">\n",
       "      <th></th>\n",
       "      <th>Area</th>\n",
       "      <th>Room</th>\n",
       "      <th>Parking</th>\n",
       "      <th>Warehouse</th>\n",
       "      <th>Elevator</th>\n",
       "      <th>Address</th>\n",
       "      <th>Price(USD)</th>\n",
       "    </tr>\n",
       "  </thead>\n",
       "  <tbody>\n",
       "    <tr>\n",
       "      <th>0</th>\n",
       "      <td>63</td>\n",
       "      <td>1</td>\n",
       "      <td>True</td>\n",
       "      <td>True</td>\n",
       "      <td>True</td>\n",
       "      <td>Shahran</td>\n",
       "      <td>61666.67</td>\n",
       "    </tr>\n",
       "    <tr>\n",
       "      <th>1</th>\n",
       "      <td>60</td>\n",
       "      <td>1</td>\n",
       "      <td>True</td>\n",
       "      <td>True</td>\n",
       "      <td>True</td>\n",
       "      <td>Shahran</td>\n",
       "      <td>61666.67</td>\n",
       "    </tr>\n",
       "    <tr>\n",
       "      <th>2</th>\n",
       "      <td>79</td>\n",
       "      <td>2</td>\n",
       "      <td>True</td>\n",
       "      <td>True</td>\n",
       "      <td>True</td>\n",
       "      <td>Pardis</td>\n",
       "      <td>18333.33</td>\n",
       "    </tr>\n",
       "    <tr>\n",
       "      <th>3</th>\n",
       "      <td>95</td>\n",
       "      <td>2</td>\n",
       "      <td>True</td>\n",
       "      <td>True</td>\n",
       "      <td>True</td>\n",
       "      <td>Shahrake Qods</td>\n",
       "      <td>30083.33</td>\n",
       "    </tr>\n",
       "    <tr>\n",
       "      <th>4</th>\n",
       "      <td>123</td>\n",
       "      <td>2</td>\n",
       "      <td>True</td>\n",
       "      <td>True</td>\n",
       "      <td>True</td>\n",
       "      <td>Shahrake Gharb</td>\n",
       "      <td>233333.33</td>\n",
       "    </tr>\n",
       "  </tbody>\n",
       "</table>\n",
       "</div>"
      ],
      "text/plain": [
       "  Area  Room  Parking  Warehouse  Elevator         Address  Price(USD)\n",
       "0   63     1     True       True      True         Shahran    61666.67\n",
       "1   60     1     True       True      True         Shahran    61666.67\n",
       "2   79     2     True       True      True          Pardis    18333.33\n",
       "3   95     2     True       True      True   Shahrake Qods    30083.33\n",
       "4  123     2     True       True      True  Shahrake Gharb   233333.33"
      ]
     },
     "execution_count": 6,
     "metadata": {},
     "output_type": "execute_result"
    }
   ],
   "source": [
    "house.head()"
   ]
  },
  {
   "cell_type": "code",
   "execution_count": 7,
   "id": "5fdada21",
   "metadata": {
    "execution": {
     "iopub.execute_input": "2021-09-06T13:18:58.932320Z",
     "iopub.status.busy": "2021-09-06T13:18:58.931373Z",
     "iopub.status.idle": "2021-09-06T13:18:58.941865Z",
     "shell.execute_reply": "2021-09-06T13:18:58.942776Z",
     "shell.execute_reply.started": "2021-09-06T13:18:29.081476Z"
    },
    "papermill": {
     "duration": 0.033877,
     "end_time": "2021-09-06T13:18:58.942984",
     "exception": false,
     "start_time": "2021-09-06T13:18:58.909107",
     "status": "completed"
    },
    "tags": []
   },
   "outputs": [
    {
     "data": {
      "text/plain": [
       "True     2950\n",
       "False     529\n",
       "Name: Parking, dtype: int64"
      ]
     },
     "execution_count": 7,
     "metadata": {},
     "output_type": "execute_result"
    }
   ],
   "source": [
    "house[\"Parking\"].value_counts()"
   ]
  },
  {
   "cell_type": "code",
   "execution_count": 8,
   "id": "0656314c",
   "metadata": {
    "execution": {
     "iopub.execute_input": "2021-09-06T13:18:58.989798Z",
     "iopub.status.busy": "2021-09-06T13:18:58.989007Z",
     "iopub.status.idle": "2021-09-06T13:18:58.991994Z",
     "shell.execute_reply": "2021-09-06T13:18:58.991432Z",
     "shell.execute_reply.started": "2021-09-06T13:18:29.097249Z"
    },
    "papermill": {
     "duration": 0.031086,
     "end_time": "2021-09-06T13:18:58.992140",
     "exception": false,
     "start_time": "2021-09-06T13:18:58.961054",
     "status": "completed"
    },
    "tags": []
   },
   "outputs": [],
   "source": [
    "\n",
    "house[\"Parking\"] = house['Parking'].astype('int')\n",
    "\n",
    "house[\"Warehouse\"] = house['Warehouse'].astype('int')\n",
    "\n",
    "house[\"Elevator\"] = house['Elevator'].astype('int')\n",
    "\n",
    "house[\"Area\"] = house[\"Area\"].str.replace(',', '').astype(int)"
   ]
  },
  {
   "cell_type": "code",
   "execution_count": 9,
   "id": "6172fbda",
   "metadata": {
    "execution": {
     "iopub.execute_input": "2021-09-06T13:18:59.048274Z",
     "iopub.status.busy": "2021-09-06T13:18:59.036335Z",
     "iopub.status.idle": "2021-09-06T13:18:59.052317Z",
     "shell.execute_reply": "2021-09-06T13:18:59.051611Z",
     "shell.execute_reply.started": "2021-09-06T13:18:29.112935Z"
    },
    "papermill": {
     "duration": 0.041301,
     "end_time": "2021-09-06T13:18:59.052476",
     "exception": false,
     "start_time": "2021-09-06T13:18:59.011175",
     "status": "completed"
    },
    "tags": []
   },
   "outputs": [
    {
     "name": "stdout",
     "output_type": "stream",
     "text": [
      "<class 'pandas.core.frame.DataFrame'>\n",
      "RangeIndex: 3479 entries, 0 to 3478\n",
      "Data columns (total 7 columns):\n",
      " #   Column      Non-Null Count  Dtype  \n",
      "---  ------      --------------  -----  \n",
      " 0   Area        3479 non-null   int64  \n",
      " 1   Room        3479 non-null   int64  \n",
      " 2   Parking     3479 non-null   int64  \n",
      " 3   Warehouse   3479 non-null   int64  \n",
      " 4   Elevator    3479 non-null   int64  \n",
      " 5   Address     3456 non-null   object \n",
      " 6   Price(USD)  3479 non-null   float64\n",
      "dtypes: float64(1), int64(5), object(1)\n",
      "memory usage: 190.4+ KB\n"
     ]
    }
   ],
   "source": [
    "house.info()"
   ]
  },
  {
   "cell_type": "code",
   "execution_count": 10,
   "id": "b59d28c2",
   "metadata": {
    "execution": {
     "iopub.execute_input": "2021-09-06T13:18:59.093440Z",
     "iopub.status.busy": "2021-09-06T13:18:59.092434Z",
     "iopub.status.idle": "2021-09-06T13:18:59.105643Z",
     "shell.execute_reply": "2021-09-06T13:18:59.104997Z",
     "shell.execute_reply.started": "2021-09-06T13:18:29.128762Z"
    },
    "papermill": {
     "duration": 0.034513,
     "end_time": "2021-09-06T13:18:59.105777",
     "exception": false,
     "start_time": "2021-09-06T13:18:59.071264",
     "status": "completed"
    },
    "tags": []
   },
   "outputs": [
    {
     "data": {
      "text/html": [
       "<div>\n",
       "<style scoped>\n",
       "    .dataframe tbody tr th:only-of-type {\n",
       "        vertical-align: middle;\n",
       "    }\n",
       "\n",
       "    .dataframe tbody tr th {\n",
       "        vertical-align: top;\n",
       "    }\n",
       "\n",
       "    .dataframe thead th {\n",
       "        text-align: right;\n",
       "    }\n",
       "</style>\n",
       "<table border=\"1\" class=\"dataframe\">\n",
       "  <thead>\n",
       "    <tr style=\"text-align: right;\">\n",
       "      <th></th>\n",
       "      <th>Area</th>\n",
       "      <th>Room</th>\n",
       "      <th>Parking</th>\n",
       "      <th>Warehouse</th>\n",
       "      <th>Elevator</th>\n",
       "      <th>Address</th>\n",
       "      <th>Price(USD)</th>\n",
       "    </tr>\n",
       "  </thead>\n",
       "  <tbody>\n",
       "    <tr>\n",
       "      <th>0</th>\n",
       "      <td>63</td>\n",
       "      <td>1</td>\n",
       "      <td>1</td>\n",
       "      <td>1</td>\n",
       "      <td>1</td>\n",
       "      <td>Shahran</td>\n",
       "      <td>61666.67</td>\n",
       "    </tr>\n",
       "    <tr>\n",
       "      <th>1</th>\n",
       "      <td>60</td>\n",
       "      <td>1</td>\n",
       "      <td>1</td>\n",
       "      <td>1</td>\n",
       "      <td>1</td>\n",
       "      <td>Shahran</td>\n",
       "      <td>61666.67</td>\n",
       "    </tr>\n",
       "    <tr>\n",
       "      <th>2</th>\n",
       "      <td>79</td>\n",
       "      <td>2</td>\n",
       "      <td>1</td>\n",
       "      <td>1</td>\n",
       "      <td>1</td>\n",
       "      <td>Pardis</td>\n",
       "      <td>18333.33</td>\n",
       "    </tr>\n",
       "    <tr>\n",
       "      <th>3</th>\n",
       "      <td>95</td>\n",
       "      <td>2</td>\n",
       "      <td>1</td>\n",
       "      <td>1</td>\n",
       "      <td>1</td>\n",
       "      <td>Shahrake Qods</td>\n",
       "      <td>30083.33</td>\n",
       "    </tr>\n",
       "    <tr>\n",
       "      <th>4</th>\n",
       "      <td>123</td>\n",
       "      <td>2</td>\n",
       "      <td>1</td>\n",
       "      <td>1</td>\n",
       "      <td>1</td>\n",
       "      <td>Shahrake Gharb</td>\n",
       "      <td>233333.33</td>\n",
       "    </tr>\n",
       "  </tbody>\n",
       "</table>\n",
       "</div>"
      ],
      "text/plain": [
       "   Area  Room  Parking  Warehouse  Elevator         Address  Price(USD)\n",
       "0    63     1        1          1         1         Shahran    61666.67\n",
       "1    60     1        1          1         1         Shahran    61666.67\n",
       "2    79     2        1          1         1          Pardis    18333.33\n",
       "3    95     2        1          1         1   Shahrake Qods    30083.33\n",
       "4   123     2        1          1         1  Shahrake Gharb   233333.33"
      ]
     },
     "execution_count": 10,
     "metadata": {},
     "output_type": "execute_result"
    }
   ],
   "source": [
    "house.head()"
   ]
  },
  {
   "cell_type": "code",
   "execution_count": 11,
   "id": "9411018f",
   "metadata": {
    "execution": {
     "iopub.execute_input": "2021-09-06T13:18:59.150527Z",
     "iopub.status.busy": "2021-09-06T13:18:59.149836Z",
     "iopub.status.idle": "2021-09-06T13:18:59.152668Z",
     "shell.execute_reply": "2021-09-06T13:18:59.153104Z",
     "shell.execute_reply.started": "2021-09-06T13:18:29.140934Z"
    },
    "papermill": {
     "duration": 0.028825,
     "end_time": "2021-09-06T13:18:59.153280",
     "exception": false,
     "start_time": "2021-09-06T13:18:59.124455",
     "status": "completed"
    },
    "tags": []
   },
   "outputs": [
    {
     "data": {
      "text/plain": [
       "array(['Shahran', 'Pardis', 'Shahrake Qods', 'Shahrake Gharb',\n",
       "       'North Program Organization', 'Andisheh', 'West Ferdows Boulevard',\n",
       "       'Narmak', 'Saadat Abad', 'Zafar', 'Islamshahr', 'Pirouzi',\n",
       "       'Shahrake Shahid Bagheri', 'Moniriyeh', 'Velenjak', 'Amirieh',\n",
       "       'Southern Janatabad', 'Salsabil', 'Zargandeh', 'Feiz Garden',\n",
       "       'Water Organization', nan, 'ShahrAra', 'Gisha', 'Ray', 'Abbasabad',\n",
       "       'Ostad Moein', 'Farmanieh', 'Parand', 'Punak', 'Qasr-od-Dasht',\n",
       "       'Aqdasieh', 'Pakdasht', 'Railway', 'Central Janatabad',\n",
       "       'East Ferdows Boulevard', 'Pakdasht KhatunAbad', 'Sattarkhan',\n",
       "       'Baghestan', 'Shahryar', 'Northern Janatabad', 'Daryan No',\n",
       "       'Southern Program Organization', 'Rudhen', 'West Pars', 'Afsarieh',\n",
       "       'Marzdaran', 'Dorous', 'Sadeghieh', 'Chahardangeh', 'Baqershahr',\n",
       "       'Jeyhoon', 'Lavizan', 'Shams Abad', 'Fatemi',\n",
       "       'Keshavarz Boulevard', 'Kahrizak', 'Qarchak',\n",
       "       'Northren Jamalzadeh', 'Azarbaijan', 'Bahar',\n",
       "       'Persian Gulf Martyrs Lake', 'Beryanak', 'Heshmatieh',\n",
       "       'Elm-o-Sanat', 'Golestan', 'Shahr-e-Ziba', 'Pasdaran',\n",
       "       'Chardivari', 'Gheitarieh', 'Kamranieh', 'Gholhak', 'Heravi',\n",
       "       'Hashemi', 'Dehkade Olampic', 'Damavand', 'Republic', 'Zaferanieh',\n",
       "       'Qazvin Imamzadeh Hassan', 'Niavaran', 'Valiasr', 'Qalandari',\n",
       "       'Amir Bahador', 'Ekhtiarieh', 'Ekbatan', 'Absard', 'Haft Tir',\n",
       "       'Mahallati', 'Ozgol', 'Tajrish', 'Abazar', 'Koohsar', 'Hekmat',\n",
       "       'Parastar', 'Lavasan', 'Majidieh', 'Southern Chitgar', 'Karimkhan',\n",
       "       'Si Metri Ji', 'Karoon', 'Northern Chitgar', 'East Pars', 'Kook',\n",
       "       'Air force', 'Sohanak', 'Komeil', 'Azadshahr', 'Zibadasht',\n",
       "       'Amirabad', 'Dezashib', 'Elahieh', 'Mirdamad', 'Razi', 'Jordan',\n",
       "       'Mahmoudieh', 'Shahedshahr', 'Yaftabad', 'Mehran', 'Nasim Shahr',\n",
       "       'Tenant', 'Chardangeh', 'Fallah', 'Eskandari', 'Shahrakeh Naft',\n",
       "       'Ajudaniye', 'Tehransar', 'Nawab', 'Yousef Abad',\n",
       "       'Northern Suhrawardi', 'Villa', 'Hakimiyeh', 'Nezamabad',\n",
       "       'Garden of Saba', 'Tarasht', 'Azari', 'Shahrake Apadana', 'Araj',\n",
       "       'Vahidieh', 'Malard', 'Shahrake Azadi', 'Darband', 'Vanak',\n",
       "       'Tehran Now', 'Darabad', 'Eram', 'Atabak', 'Sabalan', 'SabaShahr',\n",
       "       'Shahrake Madaen', 'Waterfall', 'Ahang', 'Salehabad', 'Pishva',\n",
       "       'Enghelab', 'Islamshahr Elahieh', 'Ray - Montazeri',\n",
       "       'Firoozkooh Kuhsar', 'Ghoba', 'Mehrabad', 'Southern Suhrawardi',\n",
       "       'Abuzar', 'Dolatabad', 'Hor Square', 'Taslihat', 'Kazemabad',\n",
       "       'Robat Karim', 'Ray - Pilgosh', 'Ghiyamdasht', 'Telecommunication',\n",
       "       'Mirza Shirazi', 'Gandhi', 'Argentina', 'Seyed Khandan',\n",
       "       'Shahrake Quds', 'Safadasht', 'Khademabad Garden', 'Hassan Abad',\n",
       "       'Chidz', 'Khavaran', 'Boloorsazi', 'Mehrabad River River',\n",
       "       'Varamin - Beheshti', 'Shoosh', 'Thirteen November', 'Darakeh',\n",
       "       'Aliabad South', 'Alborz Complex', 'Firoozkooh', 'Vahidiyeh',\n",
       "       'Shadabad', 'Naziabad', 'Javadiyeh', 'Yakhchiabad'], dtype=object)"
      ]
     },
     "execution_count": 11,
     "metadata": {},
     "output_type": "execute_result"
    }
   ],
   "source": [
    "house[\"Address\"].unique()"
   ]
  },
  {
   "cell_type": "code",
   "execution_count": 12,
   "id": "9b4f4a09",
   "metadata": {
    "execution": {
     "iopub.execute_input": "2021-09-06T13:18:59.195750Z",
     "iopub.status.busy": "2021-09-06T13:18:59.195106Z",
     "iopub.status.idle": "2021-09-06T13:18:59.204709Z",
     "shell.execute_reply": "2021-09-06T13:18:59.203836Z",
     "shell.execute_reply.started": "2021-09-06T13:18:29.155044Z"
    },
    "papermill": {
     "duration": 0.03177,
     "end_time": "2021-09-06T13:18:59.204882",
     "exception": false,
     "start_time": "2021-09-06T13:18:59.173112",
     "status": "completed"
    },
    "tags": []
   },
   "outputs": [
    {
     "data": {
      "text/plain": [
       "Area           0\n",
       "Room           0\n",
       "Parking        0\n",
       "Warehouse      0\n",
       "Elevator       0\n",
       "Address       23\n",
       "Price(USD)     0\n",
       "dtype: int64"
      ]
     },
     "execution_count": 12,
     "metadata": {},
     "output_type": "execute_result"
    }
   ],
   "source": [
    "house.isnull().sum()"
   ]
  },
  {
   "cell_type": "code",
   "execution_count": 13,
   "id": "382543ff",
   "metadata": {
    "execution": {
     "iopub.execute_input": "2021-09-06T13:18:59.246730Z",
     "iopub.status.busy": "2021-09-06T13:18:59.246110Z",
     "iopub.status.idle": "2021-09-06T13:18:59.268819Z",
     "shell.execute_reply": "2021-09-06T13:18:59.269270Z",
     "shell.execute_reply.started": "2021-09-06T13:18:29.169152Z"
    },
    "papermill": {
     "duration": 0.045285,
     "end_time": "2021-09-06T13:18:59.269491",
     "exception": false,
     "start_time": "2021-09-06T13:18:59.224206",
     "status": "completed"
    },
    "tags": []
   },
   "outputs": [],
   "source": [
    "house.dropna(inplace=True)"
   ]
  },
  {
   "cell_type": "code",
   "execution_count": 14,
   "id": "e02cfd5e",
   "metadata": {
    "execution": {
     "iopub.execute_input": "2021-09-06T13:18:59.310999Z",
     "iopub.status.busy": "2021-09-06T13:18:59.310450Z",
     "iopub.status.idle": "2021-09-06T13:18:59.317278Z",
     "shell.execute_reply": "2021-09-06T13:18:59.317746Z",
     "shell.execute_reply.started": "2021-09-06T13:18:29.182536Z"
    },
    "papermill": {
     "duration": 0.029089,
     "end_time": "2021-09-06T13:18:59.317911",
     "exception": false,
     "start_time": "2021-09-06T13:18:59.288822",
     "status": "completed"
    },
    "tags": []
   },
   "outputs": [
    {
     "data": {
      "text/plain": [
       "Area          0\n",
       "Room          0\n",
       "Parking       0\n",
       "Warehouse     0\n",
       "Elevator      0\n",
       "Address       0\n",
       "Price(USD)    0\n",
       "dtype: int64"
      ]
     },
     "execution_count": 14,
     "metadata": {},
     "output_type": "execute_result"
    }
   ],
   "source": [
    "house.isnull().sum()"
   ]
  },
  {
   "cell_type": "code",
   "execution_count": 15,
   "id": "8504e1f7",
   "metadata": {
    "execution": {
     "iopub.execute_input": "2021-09-06T13:18:59.361991Z",
     "iopub.status.busy": "2021-09-06T13:18:59.361314Z",
     "iopub.status.idle": "2021-09-06T13:18:59.367652Z",
     "shell.execute_reply": "2021-09-06T13:18:59.367129Z",
     "shell.execute_reply.started": "2021-09-06T13:18:29.194115Z"
    },
    "papermill": {
     "duration": 0.029753,
     "end_time": "2021-09-06T13:18:59.367784",
     "exception": false,
     "start_time": "2021-09-06T13:18:59.338031",
     "status": "completed"
    },
    "tags": []
   },
   "outputs": [
    {
     "data": {
      "text/plain": [
       "(3456, 7)"
      ]
     },
     "execution_count": 15,
     "metadata": {},
     "output_type": "execute_result"
    }
   ],
   "source": [
    "house.shape"
   ]
  },
  {
   "cell_type": "code",
   "execution_count": 16,
   "id": "8c2527d9",
   "metadata": {
    "execution": {
     "iopub.execute_input": "2021-09-06T13:18:59.415036Z",
     "iopub.status.busy": "2021-09-06T13:18:59.414437Z",
     "iopub.status.idle": "2021-09-06T13:18:59.419172Z",
     "shell.execute_reply": "2021-09-06T13:18:59.419676Z",
     "shell.execute_reply.started": "2021-09-06T13:18:29.204427Z"
    },
    "papermill": {
     "duration": 0.031632,
     "end_time": "2021-09-06T13:18:59.419843",
     "exception": false,
     "start_time": "2021-09-06T13:18:59.388211",
     "status": "completed"
    },
    "tags": []
   },
   "outputs": [],
   "source": [
    "house_mapping = house[\"Address\"].value_counts().to_dict()\n",
    "house[\"Address\"] = house[\"Address\"].map(house_mapping)"
   ]
  },
  {
   "cell_type": "code",
   "execution_count": 17,
   "id": "63de9f8f",
   "metadata": {
    "execution": {
     "iopub.execute_input": "2021-09-06T13:18:59.463473Z",
     "iopub.status.busy": "2021-09-06T13:18:59.462867Z",
     "iopub.status.idle": "2021-09-06T13:18:59.473643Z",
     "shell.execute_reply": "2021-09-06T13:18:59.474059Z",
     "shell.execute_reply.started": "2021-09-06T13:18:29.217158Z"
    },
    "papermill": {
     "duration": 0.034581,
     "end_time": "2021-09-06T13:18:59.474227",
     "exception": false,
     "start_time": "2021-09-06T13:18:59.439646",
     "status": "completed"
    },
    "tags": []
   },
   "outputs": [
    {
     "data": {
      "text/html": [
       "<div>\n",
       "<style scoped>\n",
       "    .dataframe tbody tr th:only-of-type {\n",
       "        vertical-align: middle;\n",
       "    }\n",
       "\n",
       "    .dataframe tbody tr th {\n",
       "        vertical-align: top;\n",
       "    }\n",
       "\n",
       "    .dataframe thead th {\n",
       "        text-align: right;\n",
       "    }\n",
       "</style>\n",
       "<table border=\"1\" class=\"dataframe\">\n",
       "  <thead>\n",
       "    <tr style=\"text-align: right;\">\n",
       "      <th></th>\n",
       "      <th>Area</th>\n",
       "      <th>Room</th>\n",
       "      <th>Parking</th>\n",
       "      <th>Warehouse</th>\n",
       "      <th>Elevator</th>\n",
       "      <th>Address</th>\n",
       "      <th>Price(USD)</th>\n",
       "    </tr>\n",
       "  </thead>\n",
       "  <tbody>\n",
       "    <tr>\n",
       "      <th>0</th>\n",
       "      <td>63</td>\n",
       "      <td>1</td>\n",
       "      <td>1</td>\n",
       "      <td>1</td>\n",
       "      <td>1</td>\n",
       "      <td>130</td>\n",
       "      <td>61666.67</td>\n",
       "    </tr>\n",
       "    <tr>\n",
       "      <th>1</th>\n",
       "      <td>60</td>\n",
       "      <td>1</td>\n",
       "      <td>1</td>\n",
       "      <td>1</td>\n",
       "      <td>1</td>\n",
       "      <td>130</td>\n",
       "      <td>61666.67</td>\n",
       "    </tr>\n",
       "    <tr>\n",
       "      <th>2</th>\n",
       "      <td>79</td>\n",
       "      <td>2</td>\n",
       "      <td>1</td>\n",
       "      <td>1</td>\n",
       "      <td>1</td>\n",
       "      <td>146</td>\n",
       "      <td>18333.33</td>\n",
       "    </tr>\n",
       "    <tr>\n",
       "      <th>3</th>\n",
       "      <td>95</td>\n",
       "      <td>2</td>\n",
       "      <td>1</td>\n",
       "      <td>1</td>\n",
       "      <td>1</td>\n",
       "      <td>69</td>\n",
       "      <td>30083.33</td>\n",
       "    </tr>\n",
       "    <tr>\n",
       "      <th>4</th>\n",
       "      <td>123</td>\n",
       "      <td>2</td>\n",
       "      <td>1</td>\n",
       "      <td>1</td>\n",
       "      <td>1</td>\n",
       "      <td>59</td>\n",
       "      <td>233333.33</td>\n",
       "    </tr>\n",
       "  </tbody>\n",
       "</table>\n",
       "</div>"
      ],
      "text/plain": [
       "   Area  Room  Parking  Warehouse  Elevator  Address  Price(USD)\n",
       "0    63     1        1          1         1      130    61666.67\n",
       "1    60     1        1          1         1      130    61666.67\n",
       "2    79     2        1          1         1      146    18333.33\n",
       "3    95     2        1          1         1       69    30083.33\n",
       "4   123     2        1          1         1       59   233333.33"
      ]
     },
     "execution_count": 17,
     "metadata": {},
     "output_type": "execute_result"
    }
   ],
   "source": [
    "house.head()"
   ]
  },
  {
   "cell_type": "code",
   "execution_count": 18,
   "id": "fece2a9e",
   "metadata": {
    "execution": {
     "iopub.execute_input": "2021-09-06T13:18:59.516978Z",
     "iopub.status.busy": "2021-09-06T13:18:59.516399Z",
     "iopub.status.idle": "2021-09-06T13:18:59.530131Z",
     "shell.execute_reply": "2021-09-06T13:18:59.530625Z",
     "shell.execute_reply.started": "2021-09-06T13:18:29.236035Z"
    },
    "papermill": {
     "duration": 0.036534,
     "end_time": "2021-09-06T13:18:59.530800",
     "exception": false,
     "start_time": "2021-09-06T13:18:59.494266",
     "status": "completed"
    },
    "tags": []
   },
   "outputs": [
    {
     "data": {
      "text/html": [
       "<div>\n",
       "<style scoped>\n",
       "    .dataframe tbody tr th:only-of-type {\n",
       "        vertical-align: middle;\n",
       "    }\n",
       "\n",
       "    .dataframe tbody tr th {\n",
       "        vertical-align: top;\n",
       "    }\n",
       "\n",
       "    .dataframe thead th {\n",
       "        text-align: right;\n",
       "    }\n",
       "</style>\n",
       "<table border=\"1\" class=\"dataframe\">\n",
       "  <thead>\n",
       "    <tr style=\"text-align: right;\">\n",
       "      <th></th>\n",
       "      <th>Area</th>\n",
       "      <th>Room</th>\n",
       "      <th>Parking</th>\n",
       "      <th>Warehouse</th>\n",
       "      <th>Elevator</th>\n",
       "      <th>Address</th>\n",
       "    </tr>\n",
       "  </thead>\n",
       "  <tbody>\n",
       "    <tr>\n",
       "      <th>0</th>\n",
       "      <td>63</td>\n",
       "      <td>1</td>\n",
       "      <td>1</td>\n",
       "      <td>1</td>\n",
       "      <td>1</td>\n",
       "      <td>130</td>\n",
       "    </tr>\n",
       "    <tr>\n",
       "      <th>1</th>\n",
       "      <td>60</td>\n",
       "      <td>1</td>\n",
       "      <td>1</td>\n",
       "      <td>1</td>\n",
       "      <td>1</td>\n",
       "      <td>130</td>\n",
       "    </tr>\n",
       "    <tr>\n",
       "      <th>2</th>\n",
       "      <td>79</td>\n",
       "      <td>2</td>\n",
       "      <td>1</td>\n",
       "      <td>1</td>\n",
       "      <td>1</td>\n",
       "      <td>146</td>\n",
       "    </tr>\n",
       "    <tr>\n",
       "      <th>3</th>\n",
       "      <td>95</td>\n",
       "      <td>2</td>\n",
       "      <td>1</td>\n",
       "      <td>1</td>\n",
       "      <td>1</td>\n",
       "      <td>69</td>\n",
       "    </tr>\n",
       "    <tr>\n",
       "      <th>4</th>\n",
       "      <td>123</td>\n",
       "      <td>2</td>\n",
       "      <td>1</td>\n",
       "      <td>1</td>\n",
       "      <td>1</td>\n",
       "      <td>59</td>\n",
       "    </tr>\n",
       "    <tr>\n",
       "      <th>...</th>\n",
       "      <td>...</td>\n",
       "      <td>...</td>\n",
       "      <td>...</td>\n",
       "      <td>...</td>\n",
       "      <td>...</td>\n",
       "      <td>...</td>\n",
       "    </tr>\n",
       "    <tr>\n",
       "      <th>3474</th>\n",
       "      <td>86</td>\n",
       "      <td>2</td>\n",
       "      <td>1</td>\n",
       "      <td>1</td>\n",
       "      <td>1</td>\n",
       "      <td>93</td>\n",
       "    </tr>\n",
       "    <tr>\n",
       "      <th>3475</th>\n",
       "      <td>83</td>\n",
       "      <td>2</td>\n",
       "      <td>1</td>\n",
       "      <td>1</td>\n",
       "      <td>1</td>\n",
       "      <td>68</td>\n",
       "    </tr>\n",
       "    <tr>\n",
       "      <th>3476</th>\n",
       "      <td>75</td>\n",
       "      <td>2</td>\n",
       "      <td>0</td>\n",
       "      <td>0</td>\n",
       "      <td>0</td>\n",
       "      <td>127</td>\n",
       "    </tr>\n",
       "    <tr>\n",
       "      <th>3477</th>\n",
       "      <td>105</td>\n",
       "      <td>2</td>\n",
       "      <td>1</td>\n",
       "      <td>1</td>\n",
       "      <td>1</td>\n",
       "      <td>13</td>\n",
       "    </tr>\n",
       "    <tr>\n",
       "      <th>3478</th>\n",
       "      <td>82</td>\n",
       "      <td>2</td>\n",
       "      <td>0</td>\n",
       "      <td>1</td>\n",
       "      <td>1</td>\n",
       "      <td>127</td>\n",
       "    </tr>\n",
       "  </tbody>\n",
       "</table>\n",
       "<p>3456 rows × 6 columns</p>\n",
       "</div>"
      ],
      "text/plain": [
       "      Area  Room  Parking  Warehouse  Elevator  Address\n",
       "0       63     1        1          1         1      130\n",
       "1       60     1        1          1         1      130\n",
       "2       79     2        1          1         1      146\n",
       "3       95     2        1          1         1       69\n",
       "4      123     2        1          1         1       59\n",
       "...    ...   ...      ...        ...       ...      ...\n",
       "3474    86     2        1          1         1       93\n",
       "3475    83     2        1          1         1       68\n",
       "3476    75     2        0          0         0      127\n",
       "3477   105     2        1          1         1       13\n",
       "3478    82     2        0          1         1      127\n",
       "\n",
       "[3456 rows x 6 columns]"
      ]
     },
     "execution_count": 18,
     "metadata": {},
     "output_type": "execute_result"
    }
   ],
   "source": [
    "X = house.drop(\"Price(USD)\", axis = 1)\n",
    "X"
   ]
  },
  {
   "cell_type": "code",
   "execution_count": 19,
   "id": "374c4e7d",
   "metadata": {
    "execution": {
     "iopub.execute_input": "2021-09-06T13:18:59.575811Z",
     "iopub.status.busy": "2021-09-06T13:18:59.575150Z",
     "iopub.status.idle": "2021-09-06T13:18:59.579715Z",
     "shell.execute_reply": "2021-09-06T13:18:59.579211Z",
     "shell.execute_reply.started": "2021-09-06T13:18:29.251447Z"
    },
    "papermill": {
     "duration": 0.027678,
     "end_time": "2021-09-06T13:18:59.579847",
     "exception": false,
     "start_time": "2021-09-06T13:18:59.552169",
     "status": "completed"
    },
    "tags": []
   },
   "outputs": [],
   "source": [
    "y = house[\"Price(USD)\"]"
   ]
  },
  {
   "cell_type": "code",
   "execution_count": 20,
   "id": "4ef3b745",
   "metadata": {
    "execution": {
     "iopub.execute_input": "2021-09-06T13:18:59.626442Z",
     "iopub.status.busy": "2021-09-06T13:18:59.625507Z",
     "iopub.status.idle": "2021-09-06T13:19:00.559251Z",
     "shell.execute_reply": "2021-09-06T13:19:00.558138Z",
     "shell.execute_reply.started": "2021-09-06T13:18:29.259845Z"
    },
    "papermill": {
     "duration": 0.959031,
     "end_time": "2021-09-06T13:19:00.559455",
     "exception": false,
     "start_time": "2021-09-06T13:18:59.600424",
     "status": "completed"
    },
    "tags": []
   },
   "outputs": [],
   "source": [
    "from sklearn.model_selection import train_test_split"
   ]
  },
  {
   "cell_type": "code",
   "execution_count": 21,
   "id": "ac823fef",
   "metadata": {
    "execution": {
     "iopub.execute_input": "2021-09-06T13:19:00.606415Z",
     "iopub.status.busy": "2021-09-06T13:19:00.605781Z",
     "iopub.status.idle": "2021-09-06T13:19:00.611054Z",
     "shell.execute_reply": "2021-09-06T13:19:00.610389Z",
     "shell.execute_reply.started": "2021-09-06T13:18:29.270495Z"
    },
    "papermill": {
     "duration": 0.031166,
     "end_time": "2021-09-06T13:19:00.611217",
     "exception": false,
     "start_time": "2021-09-06T13:19:00.580051",
     "status": "completed"
    },
    "tags": []
   },
   "outputs": [],
   "source": [
    "X_train, X_test, y_train, y_test = train_test_split(X,y, test_size=0.2)"
   ]
  },
  {
   "cell_type": "code",
   "execution_count": 22,
   "id": "480b5298",
   "metadata": {
    "execution": {
     "iopub.execute_input": "2021-09-06T13:19:00.660173Z",
     "iopub.status.busy": "2021-09-06T13:19:00.659569Z",
     "iopub.status.idle": "2021-09-06T13:19:00.751795Z",
     "shell.execute_reply": "2021-09-06T13:19:00.751170Z",
     "shell.execute_reply.started": "2021-09-06T13:18:29.283651Z"
    },
    "papermill": {
     "duration": 0.119115,
     "end_time": "2021-09-06T13:19:00.751935",
     "exception": false,
     "start_time": "2021-09-06T13:19:00.632820",
     "status": "completed"
    },
    "tags": []
   },
   "outputs": [],
   "source": [
    "from xgboost import XGBRegressor"
   ]
  },
  {
   "cell_type": "code",
   "execution_count": 23,
   "id": "c5f8232d",
   "metadata": {
    "execution": {
     "iopub.execute_input": "2021-09-06T13:19:00.797530Z",
     "iopub.status.busy": "2021-09-06T13:19:00.796599Z",
     "iopub.status.idle": "2021-09-06T13:19:00.801803Z",
     "shell.execute_reply": "2021-09-06T13:19:00.801312Z",
     "shell.execute_reply.started": "2021-09-06T13:18:29.295795Z"
    },
    "papermill": {
     "duration": 0.028724,
     "end_time": "2021-09-06T13:19:00.801939",
     "exception": false,
     "start_time": "2021-09-06T13:19:00.773215",
     "status": "completed"
    },
    "tags": []
   },
   "outputs": [],
   "source": [
    "model = XGBRegressor()"
   ]
  },
  {
   "cell_type": "code",
   "execution_count": 24,
   "id": "e64bb2da",
   "metadata": {
    "execution": {
     "iopub.execute_input": "2021-09-06T13:19:00.850804Z",
     "iopub.status.busy": "2021-09-06T13:19:00.850160Z",
     "iopub.status.idle": "2021-09-06T13:19:01.046969Z",
     "shell.execute_reply": "2021-09-06T13:19:01.047412Z",
     "shell.execute_reply.started": "2021-09-06T13:18:29.308284Z"
    },
    "papermill": {
     "duration": 0.223974,
     "end_time": "2021-09-06T13:19:01.047580",
     "exception": false,
     "start_time": "2021-09-06T13:19:00.823606",
     "status": "completed"
    },
    "tags": []
   },
   "outputs": [
    {
     "data": {
      "text/plain": [
       "XGBRegressor(base_score=0.5, booster='gbtree', colsample_bylevel=1,\n",
       "             colsample_bynode=1, colsample_bytree=1, gamma=0, gpu_id=-1,\n",
       "             importance_type='gain', interaction_constraints='',\n",
       "             learning_rate=0.300000012, max_delta_step=0, max_depth=6,\n",
       "             min_child_weight=1, missing=nan, monotone_constraints='()',\n",
       "             n_estimators=100, n_jobs=4, num_parallel_tree=1, random_state=0,\n",
       "             reg_alpha=0, reg_lambda=1, scale_pos_weight=1, subsample=1,\n",
       "             tree_method='exact', validate_parameters=1, verbosity=None)"
      ]
     },
     "execution_count": 24,
     "metadata": {},
     "output_type": "execute_result"
    }
   ],
   "source": [
    "model.fit(X_train, y_train)"
   ]
  },
  {
   "cell_type": "code",
   "execution_count": 25,
   "id": "1986c551",
   "metadata": {
    "execution": {
     "iopub.execute_input": "2021-09-06T13:19:01.101189Z",
     "iopub.status.busy": "2021-09-06T13:19:01.093229Z",
     "iopub.status.idle": "2021-09-06T13:19:01.108383Z",
     "shell.execute_reply": "2021-09-06T13:19:01.107824Z",
     "shell.execute_reply.started": "2021-09-06T13:18:29.473162Z"
    },
    "papermill": {
     "duration": 0.040416,
     "end_time": "2021-09-06T13:19:01.108523",
     "exception": false,
     "start_time": "2021-09-06T13:19:01.068107",
     "status": "completed"
    },
    "tags": []
   },
   "outputs": [
    {
     "data": {
      "text/plain": [
       "array([  64113.082 ,  842464.    ,   75553.836 ,   10427.082 ,\n",
       "         57874.105 ,  184026.84  ,  114117.016 ,  119733.82  ,\n",
       "         41844.53  ,  127437.4   ,  592701.94  ,  173186.44  ,\n",
       "        670919.    ,   86104.61  ,   86324.61  ,   69631.67  ,\n",
       "         69763.55  ,  135934.14  ,  159865.77  ,  128718.35  ,\n",
       "         40414.6   ,   62924.586 ,   81193.68  ,   53389.42  ,\n",
       "       1717609.2   ,  120464.4   ,  310019.66  ,   64268.527 ,\n",
       "        168156.39  ,   37919.97  ,   94421.08  ,   72718.32  ,\n",
       "        683528.9   ,   90330.516 ,  131336.72  ,   46981.273 ,\n",
       "         63465.13  ,   67440.12  ,  129348.51  ,  916556.    ,\n",
       "         57133.594 ,  123639.89  ,  514274.38  ,  212458.06  ,\n",
       "         21200.83  ,  427903.44  ,  109993.92  ,  250119.53  ,\n",
       "        488947.6   ,  431974.38  ,   57988.94  ,   56209.047 ,\n",
       "         23011.342 ,  115421.65  ,  196675.31  ,   71396.53  ,\n",
       "        452562.3   ,   29700.24  ,   59977.58  ,    6277.555 ,\n",
       "        219628.39  ,   58869.523 ,   51223.094 ,   68598.21  ,\n",
       "         29873.793 ,   21982.275 ,   49489.684 ,  173809.03  ,\n",
       "       1305703.4   ,    9611.779 ,   87879.79  ,   56318.465 ,\n",
       "        448842.72  ,   56637.574 ,   68037.31  ,  211892.47  ,\n",
       "        129662.75  ,  348554.88  ,   37346.14  ,   22671.814 ,\n",
       "        337714.5   ,  240742.81  ,   16902.254 ,   58267.4   ,\n",
       "         77405.78  ,  172029.11  ,  177031.14  ,   89263.44  ,\n",
       "         91517.89  ,   93163.09  ,   25459.193 ,   31684.92  ,\n",
       "         52087.76  ,  302289.97  ,   72028.445 ,   13558.035 ,\n",
       "         41685.934 ,  277411.5   ,   70944.8   ,  221633.88  ,\n",
       "         27024.014 ,  161521.27  ,   94823.7   ,  363770.12  ,\n",
       "        135190.77  ,   93450.09  ,  759259.4   ,   32551.1   ,\n",
       "         51240.47  ,  473435.22  ,   84634.04  ,   42254.582 ,\n",
       "        101923.664 ,  286355.94  ,   77305.805 ,  498014.16  ,\n",
       "         -4765.536 ,    5238.4946,   78687.42  ,  128740.836 ,\n",
       "        189813.52  ,  213610.6   ,  147263.14  ,  135132.11  ,\n",
       "         39169.625 ,  460727.56  ,  216751.78  ,   68543.09  ,\n",
       "        366626.97  , 2026743.6   ,   50637.67  ,   77252.15  ,\n",
       "         72032.24  , 1634611.4   ,   42204.184 ,  212787.89  ,\n",
       "         30225.092 ,   15451.325 ,  109158.15  ,  348554.88  ,\n",
       "         45742.516 ,   14104.087 ,  104183.17  ,  121413.06  ,\n",
       "         86014.85  ,   24114.506 ,  104757.164 ,  120634.445 ,\n",
       "         49511.406 ,   67810.71  ,  174813.36  ,  184795.4   ,\n",
       "        165296.55  ,   46569.516 ,   45597.035 ,  166024.73  ,\n",
       "         70352.805 ,   65181.168 ,  172872.14  ,   61005.01  ,\n",
       "        997911.1   ,   62912.26  ,  145119.86  ,  123418.914 ,\n",
       "         30116.979 ,   23011.342 ,  386297.9   ,  165189.81  ,\n",
       "         81768.86  ,   97590.09  ,  411602.44  ,  146998.94  ,\n",
       "         93639.234 ,  115948.03  ,   84654.42  ,   74956.33  ,\n",
       "        159865.77  ,   68402.8   ,   23011.342 ,   66566.516 ,\n",
       "        521303.1   ,  452562.3   ,   99541.1   ,   18301.861 ,\n",
       "        506839.5   ,  112576.61  ,   43917.496 ,   15374.587 ,\n",
       "         50165.195 ,   20851.016 ,   60348.95  ,  162042.22  ,\n",
       "        167937.53  ,   13520.64  ,  166991.34  ,   27722.469 ,\n",
       "         29112.623 ,  138841.58  ,  368676.2   ,  231363.39  ,\n",
       "         31621.69  , 1335021.9   ,  475497.1   ,   78481.25  ,\n",
       "        216751.78  ,  147619.27  ,   37132.773 ,  206883.27  ,\n",
       "         22671.814 ,   33593.85  ,   28948.896 ,  800492.44  ,\n",
       "        656105.8   ,   14247.372 ,  282421.28  ,  100334.89  ,\n",
       "        153794.81  ,  226735.64  ,   83218.25  , 1474453.9   ,\n",
       "        235020.61  ,  127944.64  ,  202779.33  ,   62756.9   ,\n",
       "         12334.036 ,  103078.664 ,  184026.84  ,  321475.6   ,\n",
       "         26993.4   ,   69763.55  ,  178430.45  ,   34118.83  ,\n",
       "        219230.47  ,   82879.445 ,   64113.082 ,  363739.22  ,\n",
       "        418510.03  ,  489012.53  ,  226847.27  ,   50257.05  ,\n",
       "        238514.6   ,  345404.7   ,   70721.734 ,   65748.69  ,\n",
       "        119690.52  ,   43994.453 ,   56713.098 ,   72028.445 ,\n",
       "         23011.342 ,   90118.69  ,  223994.12  ,  151886.2   ,\n",
       "        147619.27  ,   32709.988 ,  104183.17  ,   71032.2   ,\n",
       "         86814.49  ,   31684.92  ,  473435.22  ,   17566.172 ,\n",
       "        149713.36  ,   22753.396 ,   78481.25  ,  708691.75  ,\n",
       "         41337.86  ,   94735.49  ,  266597.12  ,    9979.924 ,\n",
       "         99070.63  ,   51210.746 ,   19294.092 ,  106257.92  ,\n",
       "        160891.89  , 1144551.1   ,  278124.7   ,   73000.53  ,\n",
       "         65762.07  ,   96377.52  ,   65050.29  ,  107717.734 ,\n",
       "        351829.56  ,   12108.243 ,  184539.81  ,   41061.418 ,\n",
       "         39301.395 ,   -7332.767 ,  217383.55  ,   45849.17  ,\n",
       "         95480.58  ,  144825.44  ,  258143.5   ,   96736.32  ,\n",
       "       1191525.5   ,  144139.34  ,   14241.561 ,  458250.12  ,\n",
       "        119232.37  ,   22721.03  ,   52108.254 ,   49369.258 ,\n",
       "        159532.53  ,  127278.56  ,   36358.875 ,   74341.125 ,\n",
       "        364789.53  ,   33121.117 ,   22671.814 ,  206705.34  ,\n",
       "        345575.4   ,   73181.41  ,   14247.372 ,   82418.7   ,\n",
       "        233115.12  ,   88714.95  ,   21982.275 ,  209053.38  ,\n",
       "        372128.34  ,  138875.19  ,   50786.125 ,  220724.05  ,\n",
       "        545449.9   ,  202323.2   ,   -4855.576 ,  256017.47  ,\n",
       "         31847.041 , 1305703.4   ,  -79420.125 ,   33436.17  ,\n",
       "         26473.23  ,   10755.076 ,  834244.5   ,   86324.61  ,\n",
       "        293054.2   ,   28732.615 ,   63243.105 ,   55284.48  ,\n",
       "        124710.79  ,   60034.32  ,   95383.84  ,   70424.54  ,\n",
       "        310189.3   ,   73308.39  ,  220170.94  ,   96477.82  ,\n",
       "        109158.15  ,   94252.13  ,   89167.31  ,   65762.07  ,\n",
       "        124668.45  ,  281834.6   ,  133072.5   ,   92853.055 ,\n",
       "         34242.387 ,   32169.184 ,  372128.34  ,   18839.578 ,\n",
       "        559311.5   ,  116573.92  ,  771662.2   ,   67831.87  ,\n",
       "        626066.2   ,  108641.305 ,  102962.63  ,   74664.37  ,\n",
       "        156267.1   ,  224864.16  ,  106359.76  ,  973716.1   ,\n",
       "         58200.316 ,   76904.51  ,  127100.58  ,   95145.87  ,\n",
       "        290216.5   ,  127944.64  ,  420086.12  ,   62040.863 ,\n",
       "        -76863.086 ,   52489.707 ,  126562.766 ,   86104.61  ,\n",
       "        474970.16  ,   73217.164 ,  282812.12  ,  310019.66  ,\n",
       "        219576.64  ,  114559.59  ,  102338.85  ,   68212.39  ,\n",
       "         38066.07  ,  101380.99  ,  162290.16  ,  149921.83  ,\n",
       "        182606.78  ,   44956.836 ,  157373.81  ,   73308.39  ,\n",
       "        247897.72  ,   21783.762 ,   44302.13  ,  127920.41  ,\n",
       "         95145.87  ,  202264.78  ,  262556.28  ,   32922.28  ,\n",
       "        279037.94  ,   51278.285 ,  120634.445 ,  183497.73  ,\n",
       "         80126.05  ,   74205.445 ,   26553.1   ,   31045.725 ,\n",
       "        138697.03  ,   69103.16  ,  113439.38  ,  188286.5   ,\n",
       "         75185.54  ,   15737.11  ,   26939.955 ,  352872.66  ,\n",
       "        307392.97  ,  420086.12  ,   73755.36  ,   99182.59  ,\n",
       "         64615.906 ,   34465.746 ,  279752.1   ,   40997.75  ,\n",
       "        393360.    ,   64159.348 ,   25143.37  ,  719056.44  ,\n",
       "        210369.05  ,  824913.8   ,  313421.94  ,  613117.75  ,\n",
       "         55478.316 ,  108509.67  ,   49287.887 ,  153398.33  ,\n",
       "        278124.7   ,   42562.14  ,  146493.06  ,   85904.83  ,\n",
       "         43940.21  ,   82882.96  ,  184159.42  ,   25143.37  ,\n",
       "        118340.91  ,   29449.006 , 3149183.    ,  103902.055 ,\n",
       "        135464.2   ,  135190.77  ,   99374.94  ,  125094.02  ,\n",
       "         76075.73  ,  365488.44  ,   68837.5   ,  270272.9   ,\n",
       "         83363.8   ,  412682.47  ,  489868.72  ,   66981.85  ,\n",
       "        101703.16  ,   64840.438 ,   23011.342 ,   66759.12  ,\n",
       "         85980.7   ,  158383.92  ,   36655.11  ,  160378.86  ,\n",
       "       1154736.1   ,   70388.164 ,   96015.44  ,  182982.39  ,\n",
       "         64345.215 ,  277411.5   ,  170204.61  ,   30956.303 ,\n",
       "       1051590.4   ,  141410.03  ,   38379.824 ,  195030.92  ,\n",
       "         97431.984 ,   19706.482 ,   40955.773 ,   39552.98  ,\n",
       "         99778.32  ,  285369.5   , 1255703.1   ,  202323.2   ,\n",
       "         26872.719 ,   87644.55  ,  268372.75  ,  366287.88  ,\n",
       "        383793.28  ,  105055.766 ,   62040.863 ,  122868.97  ,\n",
       "         11500.742 ,   86562.266 ,   29188.676 ,  250721.9   ,\n",
       "         95808.516 ,   21982.275 ,  134872.89  ,  151918.66  ,\n",
       "        110468.68  ,  112576.61  ,  134872.89  ,   36738.453 ,\n",
       "        200803.1   ,   84669.83  ,   66430.17  ,   45699.85  ,\n",
       "        376164.53  ,  150978.39  ,   31166.428 ,   16423.893 ,\n",
       "        521303.1   ,  114276.26  ,  183241.78  ,  173901.75  ,\n",
       "         77430.92  ,  268628.    ,  282090.88  ,  109300.24  ,\n",
       "        116487.89  ,   52123.64  ,  100131.39  ,  112923.1   ,\n",
       "        635160.06  ,  596738.1   ,  154481.81  ,   50080.31  ,\n",
       "        420278.75  ,   59268.797 ,  144442.05  ,  424114.6   ,\n",
       "         75687.016 ,  178825.23  ,  322948.3   ,   24869.879 ,\n",
       "         58615.848 ,   33520.668 ,  286355.94  ,  242259.36  ,\n",
       "        109314.1   ,   86014.85  ,   65510.312 ,   26929.01  ,\n",
       "        356987.34  ,  138671.78  ,   17566.172 ,  116957.58  ,\n",
       "         32848.785 ,  263157.03  ,   17670.406 ,   79756.82  ,\n",
       "         21687.691 ,   17859.072 ,  132359.92  ,   80754.414 ,\n",
       "         96216.27  ,  227086.61  ,  283430.72  ,   95706.01  ,\n",
       "         70641.05  ,  314414.03  ,   26418.402 ,   94823.7   ,\n",
       "         67049.55  ,   87658.15  ,  107808.375 ,   65762.07  ,\n",
       "         94421.08  ,   20804.115 ,  117642.93  ,   21982.275 ,\n",
       "        363770.12  ,  135132.11  ,   93639.234 ,   41988.61  ,\n",
       "         33524.9   ,   44262.96  ,  145356.62  ,   54004.996 ,\n",
       "       1203232.    ,   77302.31  ,   41074.46  ,  163191.64  ,\n",
       "         21982.275 ,  268086.06  ,   74420.24  ,   78863.1   ,\n",
       "         61039.664 ,   21982.275 ,   49128.13  ,  167077.02  ,\n",
       "        464231.    ,  173809.03  ,  116573.92  ,   82418.7   ,\n",
       "        341423.8   ,   39862.43  ,   32964.39  ,  259094.95  ,\n",
       "        159532.53  ,  171828.05  ,   33394.594 ,  515832.72  ,\n",
       "         45169.74  ,   95584.82  ,   24033.09  ,  273149.03  ,\n",
       "         72028.445 ,  125981.44  ,  212787.89  ,  230112.56  ,\n",
       "        370984.53  ,   55627.14  ,   27071.66  ,   87658.15  ,\n",
       "        108953.33  ,   94410.17  ,   86135.195 ,   51931.06  ,\n",
       "         -9917.147 ,   79387.27  ,   28473.367 ,  473185.25  ,\n",
       "         42315.883 ,   63301.203 ,  282605.75  ,   74030.414 ,\n",
       "         34816.625 ,   67831.87  ,   82924.75  ,  117419.414 ,\n",
       "         46135.504 ,  119966.53  ,   70194.375 ,  183901.48  ,\n",
       "         77248.59  ,   71802.17  ,   56191.508 ,  132920.94  ,\n",
       "         56369.004 ,   21982.275 ,   76964.875 ,   29283.008 ,\n",
       "        161521.27  ,  414719.2   ,  161408.73  ,  172181.19  ,\n",
       "         36471.793 ,   92395.305 ,  314414.03  ,  487624.12  ,\n",
       "        104663.22  ,   95145.87  ,   34820.83  ,  160618.5   ,\n",
       "         76964.84  ,   27371.643 ,  294895.    ,   55487.65  ,\n",
       "         67863.76  ,   89382.25  ,   55701.836 ,   89839.02  ,\n",
       "         75485.39  ,  110468.68  ,  151060.44  ,  102351.68  ,\n",
       "         23011.342 ,  480167.56  ,   32727.99  ,  130969.21  ,\n",
       "         96770.48  ,  555875.8   ,  120927.75  ,  372128.34  ,\n",
       "        137631.73  ,   58894.633 ,  266597.12  ,   22865.8   ,\n",
       "         29820.553 ,   15451.325 ,   78380.47  ,   96365.07  ],\n",
       "      dtype=float32)"
      ]
     },
     "execution_count": 25,
     "metadata": {},
     "output_type": "execute_result"
    }
   ],
   "source": [
    "model.predict(X_test)"
   ]
  },
  {
   "cell_type": "code",
   "execution_count": 26,
   "id": "eddae53f",
   "metadata": {
    "execution": {
     "iopub.execute_input": "2021-09-06T13:19:01.157115Z",
     "iopub.status.busy": "2021-09-06T13:19:01.156268Z",
     "iopub.status.idle": "2021-09-06T13:19:01.173758Z",
     "shell.execute_reply": "2021-09-06T13:19:01.174184Z",
     "shell.execute_reply.started": "2021-09-06T13:18:29.494308Z"
    },
    "papermill": {
     "duration": 0.043909,
     "end_time": "2021-09-06T13:19:01.174377",
     "exception": false,
     "start_time": "2021-09-06T13:19:01.130468",
     "status": "completed"
    },
    "tags": []
   },
   "outputs": [
    {
     "data": {
      "text/plain": [
       "0.9813289615009807"
      ]
     },
     "execution_count": 26,
     "metadata": {},
     "output_type": "execute_result"
    }
   ],
   "source": [
    "model.score(X_train, y_train)"
   ]
  },
  {
   "cell_type": "markdown",
   "id": "ea046ec7",
   "metadata": {
    "papermill": {
     "duration": 0.021188,
     "end_time": "2021-09-06T13:19:01.217505",
     "exception": false,
     "start_time": "2021-09-06T13:19:01.196317",
     "status": "completed"
    },
    "tags": []
   },
   "source": [
    "## Accuracy is this low beacause of Address Frequency Encoding in future i ll be doing Address Encoding more Efficiently which will increase the Accuracy. beacuse of no of categorical values is high we cannot use one hot encoding which will lead to Curse of Dimensionality. More the Columns More The Accuracy will Get Reduced."
   ]
  },
  {
   "cell_type": "code",
   "execution_count": 27,
   "id": "81ef2a11",
   "metadata": {
    "execution": {
     "iopub.execute_input": "2021-09-06T13:19:01.266530Z",
     "iopub.status.busy": "2021-09-06T13:19:01.265671Z",
     "iopub.status.idle": "2021-09-06T13:19:01.275725Z",
     "shell.execute_reply": "2021-09-06T13:19:01.276261Z",
     "shell.execute_reply.started": "2021-09-06T13:18:29.512007Z"
    },
    "papermill": {
     "duration": 0.036868,
     "end_time": "2021-09-06T13:19:01.276470",
     "exception": false,
     "start_time": "2021-09-06T13:19:01.239602",
     "status": "completed"
    },
    "tags": []
   },
   "outputs": [
    {
     "data": {
      "text/plain": [
       "0.7613857970363375"
      ]
     },
     "execution_count": 27,
     "metadata": {},
     "output_type": "execute_result"
    }
   ],
   "source": [
    "model.score(X_test, y_test)"
   ]
  }
 ],
 "metadata": {
  "kernelspec": {
   "display_name": "Python 3",
   "language": "python",
   "name": "python3"
  },
  "language_info": {
   "codemirror_mode": {
    "name": "ipython",
    "version": 3
   },
   "file_extension": ".py",
   "mimetype": "text/x-python",
   "name": "python",
   "nbconvert_exporter": "python",
   "pygments_lexer": "ipython3",
   "version": "3.7.10"
  },
  "papermill": {
   "default_parameters": {},
   "duration": 11.808315,
   "end_time": "2021-09-06T13:19:02.824700",
   "environment_variables": {},
   "exception": null,
   "input_path": "__notebook__.ipynb",
   "output_path": "__notebook__.ipynb",
   "parameters": {},
   "start_time": "2021-09-06T13:18:51.016385",
   "version": "2.3.3"
  }
 },
 "nbformat": 4,
 "nbformat_minor": 5
}
